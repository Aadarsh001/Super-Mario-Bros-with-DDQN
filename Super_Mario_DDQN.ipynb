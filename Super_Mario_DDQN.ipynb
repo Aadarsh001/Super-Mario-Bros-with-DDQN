{
 "cells": [
  {
   "cell_type": "code",
   "execution_count": 7,
   "metadata": {
    "colab": {
     "base_uri": "https://localhost:8080/"
    },
    "id": "04IY1TjaOpfz",
    "outputId": "e81aead0-4dc5-4044-cea4-5f8a0dbf16cb"
   },
   "outputs": [],
   "source": [
    "import gym\n",
    "import random\n",
    "import numpy as np\n",
    "import matplotlib.pyplot as plt\n",
    "import torch\n",
    "import torch.nn as nn\n",
    "import gym_super_mario_bros\n",
    "from tqdm import tqdm\n",
    "import pickle \n",
    "\n",
    "%matplotlib inline\n",
    "import time\n",
    "import pylab as pl\n",
    "from IPython import display as disp\n",
    "from collections import deque\n",
    "\n",
    "from IPython import embed\n",
    "import pickle\n",
    "\n",
    "from Wrappers import refined_env"
   ]
  },
  {
   "cell_type": "code",
   "execution_count": 8,
   "metadata": {
    "id": "DhCG95dVOxGo"
   },
   "outputs": [],
   "source": [
    "class Net(nn.Module):\n",
    "    def __init__(self, input_dim, output_dim):\n",
    "        super(Net, self).__init__()\n",
    "        self.relu = nn.ReLU()\n",
    "        self.conv = nn.Sequential(\n",
    "            nn.Conv2d(input_dim[0], 32, kernel_size=8, stride=4),self.relu,\n",
    "            nn.Conv2d(32, 64, kernel_size=4, stride=2),self.relu,\n",
    "            nn.Conv2d(64, 64, kernel_size=3, stride=1),self.relu\n",
    "        )\n",
    "        self.fc = nn.Sequential(\n",
    "            nn.Linear(64*7*7, 512),self.relu,\n",
    "            nn.Linear(512, output_dim)       \n",
    "        )\n",
    "    def forward(self, x):\n",
    "        conv_out = self.conv(x)\n",
    "        reshape_conv_out = torch.reshape(conv_out,(1,-1))\n",
    "        out = self.fc(reshape_conv_out)\n",
    "        return out\n"
   ]
  },
  {
   "cell_type": "code",
   "execution_count": 9,
   "metadata": {
    "id": "5PU-0z__Bg_E"
   },
   "outputs": [],
   "source": [
    "env = gym_super_mario_bros.make('SuperMarioBros-1-1-v0')\n",
    "env = refined_env(env)\n",
    "state_space = env.observation_space.shape\n",
    "action_space = env.action_space.n\n",
    "batch_size=32\n",
    "gamma=0.90\n",
    "lr=0.00025\n",
    "epsilon_min=0.02\n",
    "epsilon_decay=0.99\n",
    "replay_memory_size=30000\n",
    "copy_to_target = 50"
   ]
  },
  {
   "cell_type": "code",
   "execution_count": 10,
   "metadata": {
    "id": "1ySrzMCDOxN7"
   },
   "outputs": [],
   "source": [
    "def show_state(env, step=0):\n",
    "    # Show Mario playing\n",
    "    plt.figure(3)\n",
    "    plt.clf()\n",
    "    plt.imshow(env.render(mode='rgb_array'))\n",
    "    plt.title(\"Step: {}\".format(step))\n",
    "    plt.axis('off')\n",
    "    disp.clear_output(wait=True)\n",
    "    disp.display(plt.gcf())\n",
    "    "
   ]
  },
  {
   "cell_type": "code",
   "execution_count": 11,
   "metadata": {
    "id": "IuVDGh9ER_Px"
   },
   "outputs": [],
   "source": [
    "class DDQN:\n",
    "\n",
    "    def __init__(self, load_model, steps_exec):\n",
    "        self.policy_network = Net(state_space, action_space)\n",
    "        self.target_network = Net(state_space, action_space)\n",
    "        self.optimizer = torch.optim.Adam(self.policy_network.parameters(), lr=lr)\n",
    "        self.steps_exec = steps_exec\n",
    "        self.epsilon = 1\n",
    "        if load_model:\n",
    "#             self.policy_network.load_state_dict(torch.load(\"DQN1_{}.pth\".format(steps_exec, map_location=torch.device('cpu'))))\n",
    "#             self.target_network.load_state_dict(torch.load(\"DQN2_{}.pth\".format(steps_exec, map_location=torch.device('cpu'))))\n",
    "            self.policy_network.load_state_dict(torch.load(\"DQN1_{}.pth\".format(steps_exec)))#, map_location=torch.device(self.device)))\n",
    "            self.target_network.load_state_dict(torch.load(\"DQN2_{}.pth\".format(steps_exec)))#, map_location=torch.device(self.device)))\n",
    "            self.optimizer.load_state_dict(torch.load(\"optimizer_{}.pth\".format(steps_exec)))\n",
    "            with open(\"replay_memory_{}.pkl\".format(steps_exec), 'rb') as f:\n",
    "                self.replay_memory = pickle.load(f)\n",
    "#                 print(len(self.replay_memory),self.replay_memory[0])\n",
    "            self.epsilon *= epsilon_decay**steps_exec\n",
    "            \n",
    "        else:\n",
    "            self.replay_memory = collections.deque(maxlen=replay_memory_size)\n",
    "                                                   \n",
    "        self.L1 = nn.SmoothL1Loss()\n",
    "        self.env = gym_super_mario_bros.make('SuperMarioBros-1-1-v0')\n",
    "        self.env = refined_env(self.env)\n",
    "\n",
    "     \n",
    "    def update_nn(self, batch):\n",
    "        \n",
    "        for state, action, reward, next_state, done in batch:\n",
    "            \n",
    "            target = reward + torch.mul((gamma * self.target_network(next_state).max(1).values.unsqueeze(1)),  1 - done)\n",
    "            output = self.policy_network(state).gather(1, action.long())\n",
    "          \n",
    "            self.optimizer.zero_grad()  \n",
    "            loss = self.L1(output, target)\n",
    "            loss.backward()\n",
    "            self.optimizer.step()\n",
    "            \n",
    "\n",
    "    def train(self,num_episodes=100):\n",
    "   \n",
    "            num_episodes = num_episodes\n",
    "            env.reset()\n",
    "            \n",
    "            metrics['total_rewards'] = []\n",
    "            metrics['epsilon_decay'] = []\n",
    "\n",
    "            if self.steps_exec:\n",
    "                with open(\"total_rewards_{}.pkl\".format(self.steps_exec), 'rb') as f:\n",
    "                    metrics[\"total_rewards\"] = pickle.load(f)\n",
    "                    print(len(metrics[\"total_rewards\"]))\n",
    "                # with open(\"epsilon_decay_{}.pkl\".format(self.steps_exec), 'rb') as f:\n",
    "                #     metrics[\"epsilon_decay\"] = pickle.load(f)\n",
    "                # self.epsilon = metrics[\"epsilon_decay\"][-1]\n",
    "            \n",
    "            for ep_num in tqdm(range(num_episodes)):\n",
    "                \n",
    "                state = self.env.reset()\n",
    "                state = torch.Tensor([state])\n",
    "                total_reward = 0\n",
    "                steps = 0\n",
    "\n",
    "                if ep_num%copy_to_target == copy_to_target-1:\n",
    "                    self.target_network.load_state_dict(self.policy_network.state_dict())\n",
    "                    \n",
    "                if self.steps_exec%100 == 99: # Prioritizing experiences with low rewards\n",
    "                    self.replay_memory = sorted(self.replay_memory, key = lambda x: x[2], reverse=True)\n",
    "\n",
    "                done = False\n",
    "                if ep_num%50 == 49 or metrics['total_rewards'][-1] >= 2500:\n",
    "                  with open(\"replay_memory_{}.pkl\".format(self.steps_exec), \"wb\") as f:\n",
    "                      pickle.dump(self.replay_memory, f)\n",
    "                  with open(\"total_rewards_{}.pkl\".format(self.steps_exec), \"wb\") as f:\n",
    "                      pickle.dump(metrics['total_rewards'], f)\n",
    "                \n",
    "                  torch.save(self.policy_network.state_dict(), \"DQN1_{}.pth\".format(self.steps_exec))\n",
    "                  torch.save(self.target_network.state_dict(), \"DQN2_{}.pth\".format(self.steps_exec))\n",
    "                  torch.save(self.optimizer.state_dict(), \"optimizer_{}.pth\".format(self.steps_exec))\n",
    "\n",
    "                while not done:\n",
    "                    \n",
    "                    if random.random() < self.epsilon:  \n",
    "                        action = torch.tensor([[random.randrange(action_space)]])\n",
    "                    else:\n",
    "                        action = torch.argmax(self.policy_network(state)).unsqueeze(0).unsqueeze(0).cpu()\n",
    "                    steps += 1\n",
    "                    \n",
    "                    next_state, reward, done, info = self.env.step(int(action[0]))\n",
    "                    total_reward += reward\n",
    "\n",
    "                    next_state = torch.Tensor([next_state])\n",
    "                    reward = torch.tensor([reward]).unsqueeze(0)\n",
    "                    done = torch.tensor([int(done)]).unsqueeze(0) \n",
    "                    self.replay_memory.append([state.float(), action.float(), reward.float(), next_state.float(), done.float()])\n",
    "                    if len(self.replay_memory) > replay_memory_size:\n",
    "                        self.replay_memory = self.replay_memory[-replay_memory_size:]\n",
    "                    if batch_size > len(self.replay_memory):\n",
    "                        pass\n",
    "                    else:\n",
    "                        batch = random.choices(self.replay_memory, k=batch_size)\n",
    "                        if self.epsilon > epsilon_min:\n",
    "                            self.epsilon *= epsilon_decay\n",
    "                        metrics[\"epsilon_decay\"].append(self.epsilon)\n",
    "                        self.update_nn(batch)\n",
    "                    \n",
    "                    state = next_state\n",
    "                    \n",
    "                self.steps_exec += 1\n",
    "                metrics['total_rewards'].append(total_reward)\n",
    "                print(total_reward)\n",
    "                \n",
    "            with open(\"replay_memory_{}.pkl\".format(self.steps_exec), \"wb\") as f:\n",
    "                pickle.dump(self.replay_memory, f)\n",
    "            with open(\"total_rewards_{}.pkl\".format(self.steps_exec), \"wb\") as f:\n",
    "                pickle.dump(metrics['total_rewards'], f)\n",
    "            with open(\"epsilon_decay_{}.pkl\".format(self.steps_exec), \"wb\") as f:\n",
    "                pickle.dump(metrics['epsilon_decay'], f)\n",
    "          \n",
    "            torch.save(self.policy_network.state_dict(), \"DQN1_{}.pth\".format(self.steps_exec))\n",
    "            torch.save(self.target_network.state_dict(), \"DQN2_{}.pth\".format(self.steps_exec))\n",
    "            torch.save(self.optimizer.state_dict(), \"optimizer_{}.pth\".format(self.steps_exec))"
   ]
  },
  {
   "cell_type": "code",
   "execution_count": 12,
   "metadata": {
    "id": "cIkYuX7UJjZL"
   },
   "outputs": [],
   "source": [
    "def train(load_model, steps_exec, num_episodes):\n",
    "      agent = DDQN(load_model = load_model, steps_exec=steps_exec)\n",
    "      agent.train(num_episodes=num_episodes)"
   ]
  },
  {
   "cell_type": "code",
   "execution_count": 14,
   "metadata": {
    "colab": {
     "base_uri": "https://localhost:8080/"
    },
    "id": "Cj2ac0zJKVv7",
    "outputId": "9995eb18-a7e0-4135-a022-e783daaa6164"
   },
   "outputs": [],
   "source": [
    "metrics = {}\n",
    "train(load_model=True, steps_exec=4404, num_episodes=1)"
   ]
  },
  {
   "cell_type": "code",
   "execution_count": 15,
   "metadata": {
    "id": "N1MXx4yuO3O8"
   },
   "outputs": [],
   "source": [
    "def execute(policy_path):\n",
    "      policy_network = Net(state_space, action_space)\n",
    "      policy_network.load_state_dict(torch.load(\"{}\".format(policy_path), map_location=torch.device('cpu')))\n",
    "      state = env.reset()\n",
    "      state = torch.Tensor([state])\n",
    "      done = False\n",
    "      steps = 0\n",
    "      total_reward = 0\n",
    "      while not done:\n",
    "          show_state(env, steps)\n",
    "          action = torch.argmax(policy_network(state)).unsqueeze(0).unsqueeze(0).cpu()\n",
    "          # print(action)\n",
    "          state_next, reward, done, info = env.step(int(action[0]))\n",
    "          # print(reward,done)\n",
    "          total_reward += reward\n",
    "          state = torch.Tensor([state_next])\n",
    "          steps += 1\n",
    "      print(total_reward)"
   ]
  },
  {
   "cell_type": "code",
   "execution_count": 17,
   "metadata": {
    "id": "tTUzHej_QaV8"
   },
   "outputs": [
    {
     "data": {
      "image/png": "[encoded data removed]",
      "text/plain": [
       "<Figure size 432x288 with 1 Axes>"
      ]
     },
     "metadata": {},
     "output_type": "display_data"
    },
    {
     "name": "stdout",
     "output_type": "stream",
     "text": [
      "1771.0\n"
     ]
    },
    {
     "data": {
      "image/png": "[encoded data removed]",
      "text/plain": [
       "<Figure size 432x288 with 1 Axes>"
      ]
     },
     "metadata": {
      "needs_background": "light"
     },
     "output_type": "display_data"
    }
   ],
   "source": [
    "execute(\"DQN1_4404.pth\")"
   ]
  },
  {
   "cell_type": "code",
   "execution_count": 20,
   "metadata": {
    "colab": {
     "base_uri": "https://localhost:8080/"
    },
    "id": "Fc2cNv27S51C",
    "outputId": "c93015be-72fb-4464-bc3d-6b4d52d70c5c"
   },
   "outputs": [
    {
     "name": "stdout",
     "output_type": "stream",
     "text": [
      "1044.7091280653951\n"
     ]
    }
   ],
   "source": [
    " metrics = {}\n",
    " with open(\"total_rewards_4404.pkl\", 'rb') as f:\n",
    "      metrics[\"total_rewards\"] = pickle.load(f)\n",
    "      print(np.average(metrics[\"total_rewards\"]))\n",
    "\n",
    "metric_avg = []   \n",
    "for i in range(len(metrics[\"total_rewards\"])):\n",
    "    metric_avg.append(np.average(metrics[\"total_rewards\"][:i+1]))"
   ]
  },
  {
   "cell_type": "code",
   "execution_count": 21,
   "metadata": {
    "colab": {
     "base_uri": "https://localhost:8080/",
     "height": 232
    },
    "id": "fnA9LyJpbBJo",
    "outputId": "8758f823-ddcd-4f1b-d4d7-4335d01e8ef9"
   },
   "outputs": [
    {
     "data": {
      "image/png": "[encoded data removed]",
      "text/plain": [
       "<Figure size 432x288 with 1 Axes>"
      ]
     },
     "metadata": {
      "needs_background": "light"
     },
     "output_type": "display_data"
    },
    {
     "data": {
      "image/png": "[encoded data removed]",
      "text/plain": [
       "<Figure size 432x288 with 1 Axes>"
      ]
     },
     "metadata": {
      "needs_background": "light"
     },
     "output_type": "display_data"
    }
   ],
   "source": [
    "%matplotlib inline\n",
    "plt.plot(metrics[\"total_rewards\"])\n",
    "plt.figtext(0.5, 0.01, \"Total Rewards per episode\", wrap=True, horizontalalignment='center', fontsize=12)\n",
    "plt.savefig('total_rewards.png')\n",
    "plt.show()\n",
    "\n",
    "plt.plot(metric_avg)\n",
    "plt.figtext(0.5, 0.01, \"Averaged Rewards per episode\", wrap=True, horizontalalignment='center', fontsize=12)\n",
    "plt.savefig('total_rewards.png')\n",
    "plt.show()"
   ]
  },
  {
   "cell_type": "code",
   "execution_count": null,
   "metadata": {
    "id": "Kyx5-2nr0u9p"
   },
   "outputs": [],
   "source": []
  }
 ],
 "metadata": {
  "accelerator": "TPU",
  "colab": {
   "name": "RL_Final_Project_Mario.ipynb",
   "provenance": []
  },
  "kernelspec": {
   "display_name": "Python 3 (ipykernel)",
   "language": "python",
   "name": "python3"
  },
  "language_info": {
   "codemirror_mode": {
    "name": "ipython",
    "version": 3
   },
   "file_extension": ".py",
   "mimetype": "text/x-python",
   "name": "python",
   "nbconvert_exporter": "python",
   "pygments_lexer": "ipython3",
   "version": "3.9.6"
  }
 },
 "nbformat": 4,
 "nbformat_minor": 4
}
